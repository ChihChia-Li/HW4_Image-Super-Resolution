{
  "nbformat": 4,
  "nbformat_minor": 0,
  "metadata": {
    "accelerator": "GPU",
    "colab": {
      "name": "Image_Super_Resolution.ipynb",
      "provenance": [],
      "collapsed_sections": []
    },
    "kernelspec": {
      "display_name": "Python 3",
      "name": "python3"
    }
  },
  "cells": [
    {
      "cell_type": "code",
      "metadata": {
        "colab": {
          "base_uri": "https://localhost:8080/"
        },
        "id": "b8PzQWDP-jha",
        "outputId": "fe4aa2e4-22b0-4b97-e4b7-8e0d202f6662"
      },
      "source": [
        "!git clone https://github.com/Saafke/EDSR_Tensorflow.git"
      ],
      "execution_count": null,
      "outputs": [
        {
          "output_type": "stream",
          "text": [
            "Cloning into 'EDSR_Tensorflow'...\n",
            "remote: Enumerating objects: 19, done.\u001b[K\n",
            "remote: Counting objects: 100% (19/19), done.\u001b[K\n",
            "remote: Compressing objects: 100% (18/18), done.\u001b[K\n",
            "remote: Total 143 (delta 7), reused 6 (delta 1), pack-reused 124\n",
            "Receiving objects: 100% (143/143), 162.51 MiB | 16.18 MiB/s, done.\n",
            "Resolving deltas: 100% (71/71), done.\n",
            "Checking out files: 100% (14/14), done.\n"
          ],
          "name": "stdout"
        }
      ]
    },
    {
      "cell_type": "code",
      "metadata": {
        "colab": {
          "base_uri": "https://localhost:8080/"
        },
        "id": "8WIZUMmu-x8B",
        "outputId": "cab3f5ba-b768-4711-d780-e50a5339fa08"
      },
      "source": [
        "%cd EDSR_Tensorflow/"
      ],
      "execution_count": null,
      "outputs": [
        {
          "output_type": "stream",
          "text": [
            "/content/drive/My Drive/DL_HW4/EDSR_Tensorflow\n"
          ],
          "name": "stdout"
        }
      ]
    },
    {
      "cell_type": "code",
      "metadata": {
        "colab": {
          "base_uri": "https://localhost:8080/"
        },
        "id": "L79RYkXo-6ge",
        "outputId": "39dc0bbb-4220-4dfc-d67c-4899c8237c52"
      },
      "source": [
        "import data_utils\n",
        "\n",
        "total_mean = data_utils.calcmean('/content/drive/MyDrive/DL_HW4/Train', True)\n",
        "print('-------', total_mean, '-------')"
      ],
      "execution_count": null,
      "outputs": [
        {
          "output_type": "stream",
          "text": [
            "Total mean: [0, 0, 0] | current mean: [ 68.79672411 105.03197518 115.0428948 ]\n",
            "Total mean: [5198.48085828 5307.92077124 4562.87141923] | current mean: [ 89.8117564  115.75748214 120.17671518]\n",
            "Total mean: [10540.85995557 10756.11992798  9089.81864755] | current mean: [96.23875493 47.23036768 21.55517775]\n",
            "Total mean: [15909.60009974 16244.87687256 13870.77750792] | current mean: [88.75827229 98.39223839 97.2999592 ]\n",
            "Total mean: [21822.77944443 21627.22130686 18779.33618953] | current mean: [147.75213891 138.45372763  68.51736712]\n",
            "Total mean: [27301.74010531 27217.19229798 23012.91367932] | current mean: [124.8472484  135.24090518 125.0334389 ]\n",
            "Total mean: [32415.5981697  32112.48598131 26942.78417238] | current mean: [63.04654763 63.83412672 56.8626369 ]\n",
            "Total mean: [37648.00486396 37615.63106457 31353.66194519] | current mean: [165.27118995 178.93633461 183.24065259]\n",
            "Total mean: [43721.98753894 43835.90132836 36814.27335963] | current mean: [126.20707767 123.22109313 117.2110349 ]\n",
            "Total mean: [48826.85814211 48932.60069559 40802.21307504] | current mean: [17.54655734 52.08438417 86.67942565]\n",
            "Total mean: [53638.66234675 54607.93577114 46207.13236961] | current mean: [117.30801614 120.69191262  57.33778926]\n",
            "Total mean: [59392.04959165 60177.71882306 50657.67901115] | current mean: [138.40624089 137.42980292 116.00275257]\n",
            "Total mean: [65691.36314829 65923.7385166  55156.94926488] | current mean: [53.05388183 57.03513219 42.33270125]\n",
            "Total mean: [71870.13160002 71422.28733288 59628.78794257] | current mean: [123.23128089 102.36591084  84.45055408]\n",
            "Total mean: [77207.23320688 76887.20117335 63641.26737067] | current mean: [144.94574517 152.38714775 158.92835539]\n",
            "Total mean: [83153.19758408 82661.15599061 68997.65577997] | current mean: [73.66420554 77.87774691 48.10192292]\n",
            "Total mean: [89302.33776452 89336.94707357 74539.54858507] | current mean: [189.12657301 155.18705837  96.12612613]\n",
            "Total mean: [95344.52356642 95143.08088747 79356.1269751 ] | current mean: [101.90670397 121.58807909 107.41482892]\n",
            "Total mean: [101401.25325081 101209.14586762  84656.036749  ] | current mean: [109.17969443  64.86469     31.32955097]\n",
            "Total mean: [107326.2602974  106321.44523744  88392.5961301 ] | current mean: [145.22457108 132.3746025  108.63295575]\n",
            "Total mean: [112665.25817954 111999.79121318  93562.8012583 ] | current mean: [112.90422989 115.34843039 103.97534342]\n",
            "Total mean: [118376.9449725  117901.66524615  98593.48302954] | current mean: [113.54743816 104.3516428   83.99395729]\n",
            "Total mean: [124608.78414885 123635.90377644 103352.64185678] | current mean: [146.81335133 113.27794865  18.36623564]\n",
            "Total mean: [130649.45651596 129294.17884763 107559.22149917] | current mean: [112.14049779 118.12457173 116.02692988]\n",
            "Total mean: [137401.66347115 135319.34820975 112693.33321739] | current mean: [151.13444666 175.12194942 215.09603333]\n",
            "Total mean: [142979.06689469 141214.83661171 116800.03320804] | current mean: [55.5531959  72.40012047 67.08179351]\n",
            "Total mean: [147834.67797882 146611.82172191 121713.28739033] | current mean: [174.57630456 175.13678668 111.02677444]\n",
            "Total mean: [153775.76665052 152897.77251238 126529.03886863] | current mean: [136.48702405 152.6095945  136.84228729]\n",
            "Total mean: [159831.68793989 158871.4022039  131041.17134186] | current mean: [ 95.80224869 108.01014242  87.51756789]\n",
            "Total mean: [166202.39135686 164199.75057385 135383.38314714] | current mean: [126.39856467 119.09971028 120.44710943]\n",
            "Total mean: [172727.84653343 169594.37750697 139078.03955976] | current mean: [147.59683914 100.3629357   53.96354189]\n",
            "Total mean: [178326.89147678 174816.04543711 141482.8382929 ] | current mean: [121.20853629 109.42264038  51.16791502]\n",
            "Total mean: [185257.32704188 180098.467415   145449.97751414] | current mean: [199.69551015  83.92226856  52.07841257]\n",
            "Total mean: [192193.79866222 185839.60624403 149581.446163  ] | current mean: [131.1783732  103.43583915  99.94258457]\n",
            "Total mean: [197434.18967005 191352.37265098 153805.32376742] | current mean: [76.07202674 91.08738933 77.09299163]\n",
            "Total mean: [203695.35775834 197479.95587907 158940.37841084] | current mean: [92.57848719 81.33617658 43.86362783]\n",
            "Total mean: [209074.08985205 203239.73990897 163886.14902114] | current mean: [120.29910428 128.48389583  86.7422167 ]\n",
            "Total mean: [214842.68324199 209164.6744625  168931.0101166 ] | current mean: [104.12340594 119.10429337 111.44717327]\n",
            "Total mean: [221845.37635089 215393.77834857 173181.20562697] | current mean: [139.24138301 110.38215398  96.79329969]\n",
            "Total mean: [229496.38157199 221801.70093009 178666.74400235] | current mean: [199.66572072 110.53645646 175.24487988]\n",
            "Total mean: [236176.04865214 227066.88776361 182992.25118602] | current mean: [113.12121451  92.09179811  79.76413249]\n",
            "Total mean: [244294.8900189  232715.93243201 186713.93161393] | current mean: [177.17195767 143.66964887 148.46495911]\n",
            "Total mean: [251066.00073547 239386.63256695 192673.88941182] | current mean: [149.46720552 109.30222602 102.29109915]\n",
            "Total mean: [257353.57306984 245522.99468896 198360.176897  ] | current mean: [126.74029313 129.67489848 131.41144811]\n",
            "Total mean: [263062.90088219 251085.26170684 202972.45362887] | current mean: [178.00496063 117.35758776  67.50625083]\n",
            "Total mean: [270308.97836577 257082.47784931 206437.03528386] | current mean: [ 91.33992655 141.2528222  159.28225853]\n",
            "Total mean: [277284.95315608 262957.47013858 211640.10444047] | current mean: [146.82911961 138.15439022 126.00875308]\n",
            "Total mean: [284667.57425766 267730.20024361 214980.16330544] | current mean: [138.64666712  96.86656562  80.94884022]\n",
            "Total mean: [290400.32629881 273301.00602468 219055.26786772] | current mean: [76.46600021 76.46600021 76.46600021]\n",
            "Total mean: [297827.76641565 279436.98241349 223079.5936856 ] | current mean: [162.92219547 153.32833023 143.85184226]\n",
            "Total mean: [306078.58689204 284811.91866556 228285.20849167] | current mean: [151.36147541  97.25248855  72.20210456]\n",
            "------- [ 91.2580353  114.3498683  123.10783963] -------\n"
          ],
          "name": "stdout"
        }
      ]
    },
    {
      "cell_type": "code",
      "metadata": {
        "colab": {
          "base_uri": "https://localhost:8080/",
          "height": 53
        },
        "id": "yUAAvPCYD3hs",
        "outputId": "21d3fc93-183e-4345-90ec-5d9d27599e1d"
      },
      "source": [
        "%tensorflow_version 1.x\n",
        "import tensorflow as tf\n",
        "tf.__version__"
      ],
      "execution_count": null,
      "outputs": [
        {
          "output_type": "stream",
          "text": [
            "TensorFlow 1.x selected.\n"
          ],
          "name": "stdout"
        },
        {
          "output_type": "execute_result",
          "data": {
            "application/vnd.google.colaboratory.intrinsic+json": {
              "type": "string"
            },
            "text/plain": [
              "'1.15.2'"
            ]
          },
          "metadata": {
            "tags": []
          },
          "execution_count": 3
        }
      ]
    },
    {
      "cell_type": "code",
      "metadata": {
        "id": "lKKICnuFAyLr"
      },
      "source": [
        "!python main.py --train --fromscratch --scale 3 --epochs 30 --traindir '/content/drive/MyDrive/DL_HW4/training_images_8/' --validdir --validdir '/content/drive/MyDrive/DL_HW4/valid_images/'"
      ],
      "execution_count": null,
      "outputs": []
    },
    {
      "cell_type": "code",
      "metadata": {
        "colab": {
          "base_uri": "https://localhost:8080/"
        },
        "id": "h0IMu6_FBvbu",
        "outputId": "1d47a3fd-fcd7-49a3-ddd7-64713caf0c57"
      },
      "source": [
        "!python main.py --test --scale 3"
      ],
      "execution_count": null,
      "outputs": [
        {
          "output_type": "stream",
          "text": [
            "\n",
            "Testing......\n",
            "\n",
            "Test file:  /content/drive/MyDrive/DL_HW4/testing_lr_images/00.png\n",
            "Testing done.\n",
            "Test file:  /content/drive/MyDrive/DL_HW4/testing_lr_images/01.png\n",
            "Testing done.\n",
            "Test file:  /content/drive/MyDrive/DL_HW4/testing_lr_images/02.png\n",
            "Testing done.\n",
            "Test file:  /content/drive/MyDrive/DL_HW4/testing_lr_images/03.png\n",
            "Testing done.\n",
            "Test file:  /content/drive/MyDrive/DL_HW4/testing_lr_images/04.png\n",
            "Testing done.\n",
            "Test file:  /content/drive/MyDrive/DL_HW4/testing_lr_images/05.png\n",
            "Testing done.\n",
            "Test file:  /content/drive/MyDrive/DL_HW4/testing_lr_images/06.png\n",
            "Testing done.\n",
            "Test file:  /content/drive/MyDrive/DL_HW4/testing_lr_images/07.png\n",
            "Testing done.\n",
            "Test file:  /content/drive/MyDrive/DL_HW4/testing_lr_images/08.png\n",
            "Testing done.\n",
            "Test file:  /content/drive/MyDrive/DL_HW4/testing_lr_images/09.png\n",
            "Testing done.\n",
            "Test file:  /content/drive/MyDrive/DL_HW4/testing_lr_images/10.png\n",
            "Testing done.\n",
            "Test file:  /content/drive/MyDrive/DL_HW4/testing_lr_images/11.png\n",
            "Testing done.\n",
            "Test file:  /content/drive/MyDrive/DL_HW4/testing_lr_images/12.png\n",
            "Testing done.\n",
            "Test file:  /content/drive/MyDrive/DL_HW4/testing_lr_images/13.png\n",
            "Testing done.\n"
          ],
          "name": "stdout"
        }
      ]
    }
  ]
}